{
 "cells": [
  {
   "cell_type": "code",
   "execution_count": null,
   "id": "5221cd5c",
   "metadata": {},
   "outputs": [],
   "source": [
    "!git clone https://github.com/vsotskov89/CaDet cadet_pipeline"
   ]
  },
  {
   "cell_type": "code",
   "execution_count": null,
   "id": "4043e943",
   "metadata": {},
   "outputs": [],
   "source": [
    "!git pull https://github.com/vsotskov89/CaDet"
   ]
  },
  {
   "cell_type": "code",
   "execution_count": null,
   "id": "bbbcb96d",
   "metadata": {
    "scrolled": false
   },
   "outputs": [],
   "source": [
    "!git status"
   ]
  },
  {
   "cell_type": "code",
   "execution_count": null,
   "id": "d7d91c35",
   "metadata": {
    "scrolled": true
   },
   "outputs": [],
   "source": [
    "!git commit -am \"test commit\"\n",
    "#-am \"git_synchronize.ipynb added\""
   ]
  },
  {
   "cell_type": "code",
   "execution_count": null,
   "id": "08bc0b09",
   "metadata": {},
   "outputs": [],
   "source": [
    "!git push"
   ]
  },
  {
   "cell_type": "code",
   "execution_count": null,
   "id": "eee348a0",
   "metadata": {},
   "outputs": [],
   "source": [
    "!git add *"
   ]
  }
 ],
 "metadata": {
  "kernelspec": {
   "display_name": "Python 3 (ipykernel)",
   "language": "python",
   "name": "python3"
  },
  "language_info": {
   "codemirror_mode": {
    "name": "ipython",
    "version": 3
   },
   "file_extension": ".py",
   "mimetype": "text/x-python",
   "name": "python",
   "nbconvert_exporter": "python",
   "pygments_lexer": "ipython3",
   "version": "3.10.10"
  }
 },
 "nbformat": 4,
 "nbformat_minor": 5
}
