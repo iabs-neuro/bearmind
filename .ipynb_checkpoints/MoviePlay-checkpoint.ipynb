{
 "cells": [
  {
   "cell_type": "code",
   "execution_count": 1,
   "id": "4d2538e9-2b68-410c-84f1-edf36030f928",
   "metadata": {},
   "outputs": [],
   "source": [
    "import cv2\n",
    "import numpy as np\n",
    "import tifffile\n",
    "import bm_examinator\n",
    "from caiman.base.movies import movie  \n",
    "import caiman.source_extraction.cnmf.estimates \n",
    "\n",
    "def load_tiff_as_array(file_path):\n",
    "    with tifffile.TiffFile(file_path) as tif:\n",
    "        array = tif.asarray()  # Загрузка TIFF в виде numpy массива\n",
    "    return array"
   ]
  },
  {
   "cell_type": "code",
   "execution_count": 2,
   "id": "1eebe4b9-08f5-4c87-8108-9f250e0aa2dc",
   "metadata": {},
   "outputs": [],
   "source": [
    "# Пути к файлам\n",
    "tif_file_path = \"i:\\\\Projects\\\\NOF\\\\CalciumData\\\\3_CR_MC\\\\NOF_H01_1D_CR_MC.tif\"\n",
    "estimate_name = 'i:\\\\Projects\\\\NOF\\\\CalciumData\\\\4_Estimates\\\\NOF_H01_1D_gsig4_mincorr0.92_minpnr7_final_final_estimates.pickle'"
   ]
  },
  {
   "cell_type": "markdown",
   "id": "dbeb5e33-7167-426e-ad3b-5e1c8c983292",
   "metadata": {},
   "source": [
    "#### Просто воспроизвести видео"
   ]
  },
  {
   "cell_type": "code",
   "execution_count": null,
   "id": "eb50c3a2-6c57-40f1-966d-ef2ff0c9fda8",
   "metadata": {},
   "outputs": [],
   "source": [
    "input_arr = load_tiff_as_array(tif_file_path)\n",
    "\n",
    "frame_rate = 20\n",
    "video = movie(input_arr, fr=frame_rate)\n",
    "\n",
    "video.play(\n",
    "    gain=1.0,                # Яркость видео\n",
    "    fr=30,                   # Частота кадров\n",
    "    magnification=1.0,       # Масштаб\n",
    "    offset=0,                # Сдвиг\n",
    "    interpolation=cv2.INTER_LINEAR,\n",
    "    backend='opencv',        # Используем backend OpenCV\n",
    "    do_loop=False,           # Не зацикливать видео\n",
    "    save_movie=False,        # Не сохранять видео\n",
    "    movie_name='output.avi'  # Имя сохраняемого видео, если save_movie=True\n",
    ")"
   ]
  },
  {
   "cell_type": "markdown",
   "id": "271d22a9-9867-45a5-ab22-9e23d87fe917",
   "metadata": {},
   "source": [
    "#### Воспроизвести видео с контурами из эстимейтов"
   ]
  },
  {
   "cell_type": "code",
   "execution_count": 3,
   "id": "a0e1d7f4-fdc9-417e-b0bb-8b680b4c91eb",
   "metadata": {},
   "outputs": [
    {
     "name": "stdout",
     "output_type": "stream",
     "text": [
      "i:\\Projects\\NOF\\CalciumData\\4_Estimates\\NOF_H01_1D_\n",
      "['i:\\\\Projects\\\\NOF\\\\CalciumData\\\\4_Estimates\\\\NOF_H01_1D_timestamp.csv']\n",
      "No specified time column found, searching for a timeline without name...\n",
      "Columns with indices [0] can be interpreted as timelines\n",
      "Assuming column \"638331574485491072\" with index 0 as a timeline\n"
     ]
    }
   ],
   "source": [
    "input_arr = load_tiff_as_array(tif_file_path)\n",
    "estimate = LoadEstimates(estimate_name, default_fps=20)"
   ]
  },
  {
   "cell_type": "code",
   "execution_count": null,
   "id": "93ff5ebb-9820-427d-86e9-1ea75837d52d",
   "metadata": {},
   "outputs": [],
   "source": [
    "# Параметры для воспроизведения видео с контурами\n",
    "q_max = 99.75      # Максимум для нормализации яркости\n",
    "q_min = 2          # Минимум для нормализации яркости\n",
    "thr = 0.2          # Порог для выделения контуров\n",
    "magnification = 1  # Коэффициент увеличения\n",
    "frame_range = slice(None, None, None)  # Воспроизведение всех кадров\n",
    "save_movie = False  # Не сохранять результат\n",
    "movie_name = 'results_movie_with_estimates.avi'  # Имя файла, если сохранение включено\n",
    "display = True     # Воспроизвести видео\n",
    "opencv_codec = 'H264'  # Кодек для сохранения\n",
    "use_color = False  # Черно-белое видео\n",
    "\n",
    "# Воспроизведение видео с наложением контуров из estimate\n",
    "estimate.play_movie(\n",
    "    imgs=input_arr,       # Ваше видео в виде numpy массива\n",
    "    q_max=q_max,           # Настройки яркости\n",
    "    q_min=q_min,\n",
    "    thr=thr,               # Порог для контуров\n",
    "    magnification=magnification,  # Коэффициент увеличения\n",
    "    frame_range=frame_range,  # Диапазон кадров\n",
    "    save_movie=save_movie,  # Флаг сохранения\n",
    "    movie_name=movie_name,  # Имя файла, если сохраняется\n",
    "    display=display,        # Отображать видео\n",
    "    opencv_codec=opencv_codec,  # Кодек для сохранения\n",
    "    use_color=use_color     # Черно-белое или цветное видео\n",
    ")"
   ]
  },
  {
   "cell_type": "code",
   "execution_count": null,
   "id": "21b6ff29-f8e5-49e7-8ce5-735c2b7a4ecd",
   "metadata": {},
   "outputs": [],
   "source": []
  }
 ],
 "metadata": {
  "kernelspec": {
   "display_name": "Python 3 (ipykernel)",
   "language": "python",
   "name": "python3"
  },
  "language_info": {
   "codemirror_mode": {
    "name": "ipython",
    "version": 3
   },
   "file_extension": ".py",
   "mimetype": "text/x-python",
   "name": "python",
   "nbconvert_exporter": "python",
   "pygments_lexer": "ipython3",
   "version": "3.10.8"
  }
 },
 "nbformat": 4,
 "nbformat_minor": 5
}
